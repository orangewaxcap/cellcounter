{
 "cells": [
  {
   "cell_type": "markdown",
   "metadata": {},
   "source": [
    "# Cell counter interface"
   ]
  },
  {
   "cell_type": "markdown",
   "metadata": {},
   "source": [
    "This notebook aims to provide a streamlined interface for cell counting."
   ]
  },
  {
   "cell_type": "code",
   "execution_count": 14,
   "metadata": {},
   "outputs": [],
   "source": [
    "from ipywidgets import widgets, fixed\n",
    "from skimage import io, exposure, morphology\n",
    "import numpy as np\n",
    "%matplotlib inline"
   ]
  },
  {
   "cell_type": "code",
   "execution_count": 3,
   "metadata": {},
   "outputs": [
    {
     "data": {
      "application/vnd.jupyter.widget-view+json": {
       "model_id": "67c5d2c14133468e8b1c6195d3b8296b",
       "version_major": 2,
       "version_minor": 0
      },
      "text/plain": [
       "HBox(children=(FileUpload(value={}, description='Upload'), Text(value='', disabled=True, placeholder='no file …"
      ]
     },
     "metadata": {},
     "output_type": "display_data"
    }
   ],
   "source": [
    "uploaded_file = widgets.FileUpload(multiple=False, description=\"Upload\")\n",
    "uf_name = widgets.Text(value=None,\n",
    "                       placeholder='no file loaded',\n",
    "                       description='',\n",
    "                       disabled=True\n",
    "                      )\n",
    "channel_selector = widgets.Dropdown(options=['(no file loaded)'],\n",
    "                                            value='(no file loaded)',\n",
    "                                            description='Channel:',\n",
    "                                            disabled=True\n",
    "                                           )\n",
    "output = widgets.Output() #only used for debugging\n",
    "#output_image = widgets.Image(value=b'',format='png',width='300',height='400')\n",
    "\n",
    "\n",
    "def new_file_uploaded(change):\n",
    "    new_name = list(change['new'])[0]\n",
    "    new_img = io.imread(change['new'][new_name]['content'], plugin='imageio')\n",
    "    channels = [str(i+1) for i in range(new_img.shape[-1])]\n",
    "    channel_selector.options = channels\n",
    "    channel_selector.disabled = False\n",
    "    with output:\n",
    "        print(io.imread(change['new'][new_name]['content'], plugin='imageio').shape)\n",
    "        print([str(i+1) for i in range(new_img.shape[-1])])\n",
    "    uf_name.value = new_name\n",
    "\n",
    "uploaded_file.observe(new_file_uploaded, 'value')\n",
    "widgets.HBox([uploaded_file,\n",
    "              uf_name,\n",
    "              #output,\n",
    "              channel_selector])"
   ]
  },
  {
   "cell_type": "code",
   "execution_count": 4,
   "metadata": {},
   "outputs": [],
   "source": [
    "def adjust_image(image,\n",
    "                 lower_thresh=2, upper_thresh=98,\n",
    "                 filter_size=0, \n",
    "                 cmap='jet'\n",
    "                ):\n",
    "    \"\"\"\n",
    "    Applies contrast stretching to an image, then\n",
    "    uses a white top-hat filter to remove small patches\n",
    "    of brightness that would cause false positives later.\n",
    "    \n",
    "    Input: image; values for min and max percentile\n",
    "    brightnesses to keep; size below which bright patches\n",
    "    will be removed; colourmap.\n",
    "    \n",
    "    Output: image, hopefully with most of the background stripped\n",
    "    out. If it's worked well, it'll look like bright blobs on a\n",
    "    dark background.\n",
    "    \"\"\"\n",
    "    \n",
    "    p2, p98 = np.percentile(image, (lower_thresh, upper_thresh))\n",
    "    img_rescale = exposure.rescale_intensity(image, in_range=(p2, p98))\n",
    "    selem = morphology.disk(filter_size)\n",
    "    wht_tophat = morphology.white_tophat(img_rescale,selem=selem)\n",
    "    io.imshow(img_rescale - wht_tophat, cmap=cmap)\n",
    "    \n",
    "    return img_rescale"
   ]
  },
  {
   "cell_type": "code",
   "execution_count": 37,
   "metadata": {},
   "outputs": [
    {
     "data": {
      "application/vnd.jupyter.widget-view+json": {
       "model_id": "bc332b998b8d48e1943787b747a12f94",
       "version_major": 2,
       "version_minor": 0
      },
      "text/plain": [
       "VBox(children=(IntSlider(value=2, description='lower threshold', step=5, style=SliderStyle(description_width='…"
      ]
     },
     "metadata": {},
     "output_type": "display_data"
    },
    {
     "data": {
      "application/vnd.jupyter.widget-view+json": {
       "model_id": "cce9b4d10c8945929071e191e805b2eb",
       "version_major": 2,
       "version_minor": 0
      },
      "text/plain": [
       "Output()"
      ]
     },
     "metadata": {},
     "output_type": "display_data"
    }
   ],
   "source": [
    "widget_style = {'description_width': 'initial'}\n",
    "lower_thresh = widgets.IntSlider(min=0, max=100, step=5, value=2,\n",
    "                                 description='lower threshold', style=widget_style)\n",
    "upper_thresh = widgets.IntSlider(min=0, max=100, step=5, value=98,\n",
    "                                 description='upper threshold', style=widget_style)\n",
    "filter_size  = widgets.IntSlider(min=0, max=20, step=1, value=0,\n",
    "                                 description='filter size', style=widget_style)\n",
    "\n",
    "contrast_ui = widgets.VBox([lower_thresh, upper_thresh, filter_size])\n",
    "contrast_tweaking = widgets.interactive_output(adjust_image, {'lower_thresh': lower_thresh,\n",
    "                                                              'upper_thresh': upper_thresh,\n",
    "                                                              'filter_size': filter_size,\n",
    "                                                              'cmap': fixed('viridis'),\n",
    "                                                              'image': fixed(io.imread('Drd2_Adult_S_conf_25X_CPU1_cryo_NAV.jpg')[:,:,int(channel_selector.value)-1])})\n",
    "\n",
    "display(contrast_ui, contrast_tweaking)"
   ]
  }
 ],
 "metadata": {
  "kernelspec": {
   "display_name": "Python 3",
   "language": "python",
   "name": "python3"
  },
  "language_info": {
   "codemirror_mode": {
    "name": "ipython",
    "version": 3
   },
   "file_extension": ".py",
   "mimetype": "text/x-python",
   "name": "python",
   "nbconvert_exporter": "python",
   "pygments_lexer": "ipython3",
   "version": "3.7.7"
  }
 },
 "nbformat": 4,
 "nbformat_minor": 4
}
