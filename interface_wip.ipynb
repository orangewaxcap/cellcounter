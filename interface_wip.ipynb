{
 "cells": [
  {
   "cell_type": "markdown",
   "metadata": {},
   "source": [
    "# Cell counter interface"
   ]
  },
  {
   "cell_type": "code",
   "execution_count": 1,
   "metadata": {},
   "outputs": [],
   "source": [
    "from ipywidgets import widgets, fixed, HTML\n",
    "from skimage import io, exposure, morphology, feature\n",
    "from math import sqrt\n",
    "import skimage\n",
    "import numpy as np\n",
    "from dataclasses import dataclass\n",
    "import matplotlib.pyplot as plt\n",
    "import base64\n",
    "import xml.etree.ElementTree as ET\n",
    "from xml.dom import minidom\n",
    "\n",
    "\n",
    "import warnings\n",
    "warnings.filterwarnings(\"ignore\", category=RuntimeWarning) #to suppress known bug in skimage blob detection\n",
    "\n",
    "%matplotlib inline"
   ]
  },
  {
   "cell_type": "code",
   "execution_count": 2,
   "metadata": {},
   "outputs": [],
   "source": [
    "@dataclass\n",
    "class CounterImage():\n",
    "    original_image: np.ndarray = None\n",
    "    processed_image: np.ndarray = None\n",
    "    channels: dict = None\n",
    "    channels_count: int = None\n",
    "    channels_labels: list = None\n",
    "    channel_active: int = 1\n",
    "    marks: dict = None\n",
    "    name: str = 'default_image.png'\n",
    "    stem: str = 'default_image'\n",
    "        \n",
    "    def initialise(self,image):\n",
    "        self.original_image = io.imread(image, plugin='imageio')\n",
    "        self.channels_count = self.original_image.shape[-1]\n",
    "        self.channels_labels = [str(i+1) for i in range(self.channels_count)]\n",
    "        self.channels = {str(i+1): self.original_image[:,:,i] for i in range(self.channels_count)}\n",
    "        self.marks = dict()"
   ]
  },
  {
   "cell_type": "code",
   "execution_count": 3,
   "metadata": {},
   "outputs": [],
   "source": [
    "pic = CounterImage()\n",
    "pic.initialise('default_image.png')"
   ]
  },
  {
   "cell_type": "code",
   "execution_count": 4,
   "metadata": {},
   "outputs": [],
   "source": [
    "uploaded_file = widgets.FileUpload(multiple=False, description=\"Upload\")\n",
    "uf_name = widgets.Text(value=None,\n",
    "                       placeholder='no file loaded',\n",
    "                       description='',\n",
    "                       disabled=True\n",
    "                      )\n",
    "channel_selector = widgets.Dropdown(options=pic.channels_labels,\n",
    "                                    value='1',\n",
    "                                    description='Channel:'\n",
    "                                   )\n",
    "\n",
    "image_store = widgets.Image()\n",
    "with open('default_image.png', 'rb') as f:\n",
    "    image_store.value = f.read()\n",
    "    \n",
    "output = widgets.Output() #only used for debugging\n",
    "\n",
    "def new_file_uploaded(change):\n",
    "    with output:\n",
    "        pic.name = list(change['new'])[0]\n",
    "        pic.stem = pic.name.split('.')[0]\n",
    "        new_image = change['new'][pic.name]['content']\n",
    "        uf_name.value = pic.name\n",
    "        pic.initialise(new_image)\n",
    "        channel_selector.options = pic.channels_labels\n",
    "        image_store.value = change['new'][pic.name]['content'] #need to use this widget else won't update\n",
    "        \n",
    "def channel_changed(change):\n",
    "    pic.channel_active = change['new']\n",
    "\n",
    "uploaded_file.observe(new_file_uploaded, 'value')\n",
    "channel_selector.observe(channel_changed, 'value')\n",
    "filecontrol = widgets.HBox([uploaded_file,\n",
    "                            uf_name,\n",
    "                            output,\n",
    "                            channel_selector])"
   ]
  },
  {
   "cell_type": "code",
   "execution_count": 5,
   "metadata": {},
   "outputs": [],
   "source": [
    "def adjust_image(image,\n",
    "                 lower_thresh=2, upper_thresh=98,\n",
    "                 filter_size=0, \n",
    "                 channel=0,\n",
    "                 cmap='viridis'\n",
    "                ):\n",
    "    \"\"\"\n",
    "    Applies contrast stretching to an image, then\n",
    "    uses a white top-hat filter to remove small patches\n",
    "    of brightness that would cause false positives later.\n",
    "    \n",
    "    Input: image; values for min and max percentile\n",
    "    brightnesses to keep; size below which bright patches\n",
    "    will be removed; colourmap.\n",
    "    \n",
    "    Output: image, hopefully with most of the background stripped\n",
    "    out. If it's worked well, it'll look like bright blobs on a\n",
    "    dark background.\n",
    "    \"\"\"\n",
    "    if channel == '(no file loaded)':\n",
    "        channel = '1'\n",
    "    channel = int(channel) - 1\n",
    "    image = io.imread(image, plugin='imageio')[:,:,channel]\n",
    "\n",
    "    p2, p98 = np.percentile(image, (lower_thresh, upper_thresh))\n",
    "    img_rescale = exposure.rescale_intensity(image, in_range=(p2, p98))\n",
    "    selem = morphology.disk(filter_size)\n",
    "    wht_tophat = morphology.white_tophat(img_rescale,selem=selem)\n",
    "    processed_image = img_rescale - wht_tophat\n",
    "    pic.processed_image = processed_image\n",
    "    io.imshow(img_rescale - wht_tophat, cmap=cmap)"
   ]
  },
  {
   "cell_type": "code",
   "execution_count": 6,
   "metadata": {},
   "outputs": [],
   "source": [
    "widget_style = {'description_width': 'initial'}\n",
    "lower_thresh = widgets.IntSlider(min=0, max=100, step=5, value=2,\n",
    "                                 description='lower threshold', style=widget_style)\n",
    "upper_thresh = widgets.IntSlider(min=0, max=100, step=5, value=98,\n",
    "                                 description='upper threshold', style=widget_style)\n",
    "filter_size  = widgets.IntSlider(min=0, max=20, step=1, value=0,\n",
    "                                 description='filter size', style=widget_style)\n",
    "\n",
    "contrast_ui = widgets.VBox([lower_thresh, upper_thresh, filter_size])\n",
    "contrast_tweaking = widgets.interactive_output(adjust_image, {'lower_thresh': lower_thresh,\n",
    "                                                              'upper_thresh': upper_thresh,\n",
    "                                                              'filter_size': filter_size,\n",
    "                                                              'cmap': fixed('viridis'),\n",
    "                                                              'image': image_store,\n",
    "                                                              'channel': channel_selector})"
   ]
  },
  {
   "cell_type": "code",
   "execution_count": 7,
   "metadata": {},
   "outputs": [],
   "source": [
    "def detect_blobs(original_image,\n",
    "                 processed_image,\n",
    "                 max_sigma=30,\n",
    "                 threshold=0.1,\n",
    "                 channel='1'\n",
    "                ):\n",
    "    \"\"\"\n",
    "    Detects bright blobs in an image using the scikit-image\n",
    "    determinant of gaussian technique, then marks them on the\n",
    "    image.\n",
    "    \n",
    "    Input: original and processed images; max_sigma to determine \n",
    "    upper limit for blob size; threshold to determine how bright\n",
    "    something needs to be before it's identified as a blob.\n",
    "    \n",
    "    Output: displays image with red rings around detected blobs;\n",
    "    returns array of blob markers (y,x,radius).\n",
    "    \"\"\"\n",
    "    processed_image = pic.processed_image\n",
    "    original_image = io.imread(original_image, plugin='imageio')\n",
    "    blobs_dog = feature.blob_dog(processed_image,\n",
    "                                 max_sigma=max_sigma,\n",
    "                                 threshold=threshold\n",
    "                                )\n",
    "    blobs_dog[:, 2] = blobs_dog[:, 2] * sqrt(2) #radius calcs\n",
    "    fig,axes = plt.subplots(ncols=2, figsize=(16,12))\n",
    "    plt.axis('on')\n",
    "    ax_im_pairs = list(zip(axes,\n",
    "                           (processed_image,\n",
    "                            original_image),\n",
    "                           (True,True)\n",
    "                          ))\n",
    "    for ax,im,draw in ax_im_pairs:\n",
    "        ax.axes.xaxis.set_ticks([])\n",
    "        ax.axes.yaxis.set_ticks([])\n",
    "        ax.imshow(im)\n",
    "        if draw == True:\n",
    "            for blob in blobs_dog:\n",
    "                y,x,r = blob\n",
    "                c = plt.Circle((x, y), r,\n",
    "                               color='r',\n",
    "                               linewidth=2,\n",
    "                               fill=False\n",
    "                              )\n",
    "                ax.add_patch(c)\n",
    "    print(\"{} blobs detected.\".format(len(blobs_dog)))\n",
    "    pic.marks[str(channel)] = blobs_dog[:,0:2].tolist()\n",
    "    \n",
    "    return blobs_dog"
   ]
  },
  {
   "cell_type": "code",
   "execution_count": 8,
   "metadata": {},
   "outputs": [],
   "source": [
    "max_sigma = widgets.IntSlider(value=10, min=5, max=100, step=5, continuous_update=False, description='max sigma')\n",
    "threshold = widgets.FloatSlider(value=0.5, min=0.01, max=1, step=0.01, continuous_update=False, description='threshold')\n",
    "\n",
    "blob_tweak_box = widgets.VBox([max_sigma, threshold])\n",
    "x = widgets.interactive_output(detect_blobs,\n",
    "                           {'original_image':image_store,\n",
    "                            'processed_image': fixed(pic.processed_image),\n",
    "                            'max_sigma': max_sigma,\n",
    "                            'threshold': threshold,\n",
    "                            'channel': channel_selector}\n",
    "                          )"
   ]
  },
  {
   "cell_type": "code",
   "execution_count": 9,
   "metadata": {},
   "outputs": [
    {
     "data": {
      "application/vnd.jupyter.widget-view+json": {
       "model_id": "57849ca9644345be839079edbb8db82a",
       "version_major": 2,
       "version_minor": 0
      },
      "text/plain": [
       "VBox(children=(HBox(children=(HBox(children=(FileUpload(value={}, description='Upload'), Text(value='', disabl…"
      ]
     },
     "metadata": {},
     "output_type": "display_data"
    }
   ],
   "source": [
    "blarp = widgets.HBox([filecontrol])\n",
    "blorp = widgets.HBox([contrast_ui, blob_tweak_box])\n",
    "blurp = widgets.HBox([contrast_tweaking, x])\n",
    "blurp.layout.height='480px'\n",
    "blxrp = widgets.VBox([blarp, blorp, blurp])\n",
    "display(blxrp)"
   ]
  },
  {
   "cell_type": "code",
   "execution_count": 10,
   "metadata": {},
   "outputs": [],
   "source": [
    "def download_button(file_contents='test',filename='test'):\n",
    "    \"\"\"\n",
    "    Produces a button that allows browser download of the results.\n",
    "    Input: file contents as string; desired filename\n",
    "    Output: HTML code to be rendered with display(HTML(download_button(args)))\n",
    "    From https://stackoverflow.com/questions/61708701/how-to-download-a-file-using-ipywidget-button\n",
    "    \"\"\"\n",
    "    b64 = base64.b64encode(file_contents.encode())\n",
    "    payload = b64.decode()\n",
    "\n",
    "    #BUTTONS\n",
    "    html_buttons = '''<html>\n",
    "    <head>\n",
    "    <meta name=\"viewport\" content=\"width=device-width, initial-scale=1\">\n",
    "    </head>\n",
    "    <body>\n",
    "    <a download=\"{filename}\" href=\"data:text/xml;base64,{payload}\" download>\n",
    "    <button class=\"p-Widget jupyter-widgets jupyter-button widget-button mod-warning\">Download ImageJ file</button>\n",
    "    </a>\n",
    "    </body>\n",
    "    </html>\n",
    "    '''\n",
    "    \n",
    "    return html_buttons.format(payload=payload, filename=filename)"
   ]
  },
  {
   "cell_type": "code",
   "execution_count": 11,
   "metadata": {},
   "outputs": [],
   "source": [
    "def save_for_imagej(coords, name):\n",
    "    \"\"\"\n",
    "    Dumps out the blob coordinates as an XML file suitable for\n",
    "    use in the ImageJ cell counter plugin. If the file name isn't\n",
    "    a perfect match with the one you pass to this function, the\n",
    "    cell counter plugin will throw an error and not work. It's a \n",
    "    really fragile safety check and ought to be bypassable, but\n",
    "    the plugin hasn't been updated for ten years soo......\n",
    "    \n",
    "    Inputs: coordinates array from the detect_blobs function; file\n",
    "    name stem from load_and_get_name_of_image function.\n",
    "    \n",
    "    Output: saves an XML file for use in ImageJ. All markers will\n",
    "    be saved as marker type 1 for simplicity.\n",
    "    \"\"\"\n",
    "    \n",
    "    def prettify(elem):\n",
    "        \"\"\"\n",
    "        Return a pretty-printed XML string for the element.\n",
    "        From https://gist.github.com/jefftriplett/3980637\n",
    "        \"\"\"\n",
    "        rough_string = ET.tostring(elem, 'utf-8')\n",
    "        reparsed = minidom.parseString(rough_string)\n",
    "        return reparsed.toprettyxml(indent=\"  \", encoding=\"UTF-8\").decode('UTF8')\n",
    "    \n",
    "    marker_types = list(range(1,9))\n",
    "    marks_to_store = {1: coords}\n",
    "\n",
    "    root = ET.Element(\"CellCounter_Marker_File\")\n",
    "    imgprops = ET.SubElement(root, \"Image_Properties\")\n",
    "    imgfname = ET.SubElement(imgprops, \"Image_Filename\")\n",
    "    imgfname.text = name\n",
    "    markerdata = ET.SubElement(root, \"Marker_Data\")\n",
    "    curtype = ET.SubElement(markerdata, \"Current_Type\")\n",
    "    curtype.text = '0'\n",
    "    for i in marker_types:\n",
    "        marks_container = ET.SubElement(markerdata, \"Marker_Type\")\n",
    "        mtype = ET.SubElement(marks_container, \"Type\")\n",
    "        mtype.text = str(i)\n",
    "        if i in marks_to_store.keys():\n",
    "            for y,x in marks_to_store[i]:\n",
    "                mark = ET.SubElement(mtype, \"Marker\")\n",
    "                markx = ET.SubElement(mark, \"MarkerX\")\n",
    "                markx.text = str(int(x))\n",
    "                marky = ET.SubElement(mark, \"MarkerY\")\n",
    "                marky.text = str(int(y))\n",
    "                markz = ET.SubElement(mark, \"MarkerZ\")\n",
    "                markz.text = str(int(1))\n",
    "    \n",
    "    \"\"\" \n",
    "    filestem = name.split('.')[0]\n",
    "    with open('{}.xml'.format(filestem), 'w') as f:\n",
    "        f.write(prettify(root))\n",
    "    print(\"File saved: {}.xml\".format(filestem))\n",
    "    \"\"\"\n",
    "    return(prettify(root))"
   ]
  },
  {
   "cell_type": "code",
   "execution_count": 12,
   "metadata": {},
   "outputs": [
    {
     "data": {
      "application/vnd.jupyter.widget-view+json": {
       "model_id": "997224aa2f8c4662bd52c0965407ec77",
       "version_major": 2,
       "version_minor": 0
      },
      "text/plain": [
       "HTML(value='<html>\\n    <head>\\n    <meta name=\"viewport\" content=\"width=device-width, initial-scale=1\">\\n    …"
      ]
     },
     "metadata": {},
     "output_type": "display_data"
    }
   ],
   "source": [
    "\"\"\"\n",
    "Need to get this to automatically reflect the latest markers!\n",
    "\"\"\"\n",
    "\n",
    "marks = save_for_imagej(pic.marks[str(pic.channel_active)], pic.name)\n",
    "display(HTML(download_button(file_contents= save_for_imagej(pic.marks[str(pic.channel_active)], pic.name),\n",
    "                             filename= pic.stem + '.xml')))"
   ]
  }
 ],
 "metadata": {
  "kernelspec": {
   "display_name": "Python 3",
   "language": "python",
   "name": "python3"
  },
  "language_info": {
   "codemirror_mode": {
    "name": "ipython",
    "version": 3
   },
   "file_extension": ".py",
   "mimetype": "text/x-python",
   "name": "python",
   "nbconvert_exporter": "python",
   "pygments_lexer": "ipython3",
   "version": "3.7.7"
  }
 },
 "nbformat": 4,
 "nbformat_minor": 4
}
